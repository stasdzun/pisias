{
 "cells": [
  {
   "cell_type": "code",
   "execution_count": 1,
   "id": "a0cf9ca2",
   "metadata": {},
   "outputs": [],
   "source": [
    "    import pandas as pd\n",
    "    import numpy as np\n",
    "    import matplotlib.pyplot as plt\n",
    "    from sklearn.metrics import classification_report\n",
    "    from sklearn.model_selection import train_test_split\n",
    "    from sklearn.datasets import fetch_20newsgroups\n",
    "    from sklearn.feature_extraction.text import CountVectorizer\n",
    "    from sklearn.feature_extraction.text import TfidfTransformer\n",
    "    from sklearn.pipeline import Pipeline\n",
    "    from sklearn.naive_bayes import MultinomialNB\n",
    "    from nltk.stem import *\n",
    "    from nltk import word_tokenize\n",
    "    import itertools"
   ]
  },
  {
   "cell_type": "markdown",
   "id": "eaa59ee1",
   "metadata": {},
   "source": [
    "## Выгрузка данных из датасета"
   ]
  },
  {
   "cell_type": "code",
   "execution_count": 2,
   "id": "c0182ef4",
   "metadata": {},
   "outputs": [],
   "source": [
    "categories = ['misc.forsale', 'sci.crypt', 'talk.politics.mideast']\n",
    "remove = ['headers', 'footers', 'quotes']\n",
    "twenty_train_full = fetch_20newsgroups(subset='train', shuffle=True, random_state=42, categories=categories, remove=remove)\n",
    "twenty_test_full = fetch_20newsgroups(subset='test', shuffle=True, random_state=42, categories=categories, remove=remove)\n",
    "\n",
    "twenty_train_full = twenty_train_full.data\n",
    "twenty_test_full = twenty_test_full.data"
   ]
  },
  {
   "cell_type": "code",
   "execution_count": 3,
   "id": "980edeaf",
   "metadata": {},
   "outputs": [],
   "source": [
    "twenty_train = dict()\n",
    "twenty_test = dict()\n",
    "for category in categories:\n",
    "    twenty_train[category] = fetch_20newsgroups(subset='train', shuffle=True, random_state=42, categories=[category], remove=remove)\n",
    "    twenty_test[category] = fetch_20newsgroups(subset='test', shuffle=True, random_state=42, categories=[category], remove=remove)\n",
    "    \n",
    "    twenty_train[category] = twenty_train[category].data\n",
    "    twenty_test[category] = twenty_test[category].data\n",
    "\n",
    "twenty_train['full'] = twenty_train_full\n",
    "twenty_test['full'] = twenty_test_full\n"
   ]
  },
  {
   "cell_type": "markdown",
   "id": "55c05d82",
   "metadata": {},
   "source": [
    "## Стемминг"
   ]
  },
  {
   "cell_type": "code",
   "execution_count": 4,
   "id": "c40067fb",
   "metadata": {
    "scrolled": true
   },
   "outputs": [],
   "source": [
    "def stemming(data):\n",
    "    porter_stemmer = PorterStemmer()\n",
    "    stem = []\n",
    "    for text in data:\n",
    "        nltk_tokens = word_tokenize(text)\n",
    "        line = ''\n",
    "        for word in nltk_tokens:\n",
    "            line += ' ' + porter_stemmer.stem(word)\n",
    "        stem.append(line)\n",
    "    return stem\n",
    "\n",
    "\n",
    "stem_train = dict()\n",
    "stem_test = dict()\n",
    "for category in categories:\n",
    "    stem_train[category] = stemming(twenty_train[category])\n",
    "    stem_test[category] = stemming(twenty_test[category])\n",
    "\n",
    "stem_train['full'] = stemming(twenty_train['full'])\n",
    "stem_test['full'] = stemming(twenty_test['full'])"
   ]
  },
  {
   "cell_type": "markdown",
   "id": "0863b728",
   "metadata": {},
   "source": [
    "## Векторизация"
   ]
  },
  {
   "cell_type": "code",
   "execution_count": 5,
   "id": "0996708f",
   "metadata": {},
   "outputs": [],
   "source": [
    "def SortbyTF(inputStr):\n",
    "    return inputStr[1]\n",
    "def top_list(vect, data, count):\n",
    "    x = list(zip(vect.get_feature_names(),np.ravel(data.sum(axis=0))))\n",
    "    x.sort(key=SortbyTF, reverse = True)\n",
    "    return x[:count]"
   ]
  },
  {
   "cell_type": "markdown",
   "id": "3efe83c3",
   "metadata": {},
   "source": [
    "## Итоговая таблица"
   ]
  },
  {
   "cell_type": "code",
   "execution_count": 6,
   "id": "a7a0feb7",
   "metadata": {},
   "outputs": [
    {
     "ename": "AttributeError",
     "evalue": "'CountVectorizer' object has no attribute 'get_feature_names'",
     "output_type": "error",
     "traceback": [
      "\u001b[1;31m---------------------------------------------------------------------------\u001b[0m",
      "\u001b[1;31mAttributeError\u001b[0m                            Traceback (most recent call last)",
      "Cell \u001b[1;32mIn[6], line 35\u001b[0m\n\u001b[0;32m     31\u001b[0m                 summary[category][indx_tf[tf], indx_stop[stop]] \u001b[38;5;241m=\u001b[39m top_list(vect, train_fidf, \u001b[38;5;241m20\u001b[39m)\n\u001b[0;32m     33\u001b[0m     \u001b[38;5;28;01mreturn\u001b[39;00m summary\n\u001b[1;32m---> 35\u001b[0m summ_without_stem \u001b[38;5;241m=\u001b[39m \u001b[43mprocess\u001b[49m\u001b[43m(\u001b[49m\u001b[43mtwenty_train\u001b[49m\u001b[43m,\u001b[49m\u001b[43m \u001b[49m\u001b[43mcategories\u001b[49m\u001b[43m)\u001b[49m\n\u001b[0;32m     36\u001b[0m summ_with_stem \u001b[38;5;241m=\u001b[39m process(stem_train, categories)\n",
      "Cell \u001b[1;32mIn[6], line 26\u001b[0m, in \u001b[0;36mprocess\u001b[1;34m(train, categories)\u001b[0m\n\u001b[0;32m     24\u001b[0m vect\u001b[38;5;241m.\u001b[39mfit(train[category])\n\u001b[0;32m     25\u001b[0m train_data \u001b[38;5;241m=\u001b[39m vect\u001b[38;5;241m.\u001b[39mtransform(train[category])\n\u001b[1;32m---> 26\u001b[0m summary[category][\u001b[38;5;124m'\u001b[39m\u001b[38;5;124mCount\u001b[39m\u001b[38;5;124m'\u001b[39m, indx_stop[stop]] \u001b[38;5;241m=\u001b[39m \u001b[43mtop_list\u001b[49m\u001b[43m(\u001b[49m\u001b[43mvect\u001b[49m\u001b[43m,\u001b[49m\u001b[43m \u001b[49m\u001b[43mtrain_data\u001b[49m\u001b[43m,\u001b[49m\u001b[43m \u001b[49m\u001b[38;5;241;43m20\u001b[39;49m\u001b[43m)\u001b[49m\n\u001b[0;32m     28\u001b[0m \u001b[38;5;28;01mfor\u001b[39;00m tf \u001b[38;5;129;01min\u001b[39;00m idf:\n\u001b[0;32m     29\u001b[0m     tfidf \u001b[38;5;241m=\u001b[39m TfidfTransformer(use_idf \u001b[38;5;241m=\u001b[39m tf)\u001b[38;5;241m.\u001b[39mfit(train_data)\n",
      "Cell \u001b[1;32mIn[5], line 4\u001b[0m, in \u001b[0;36mtop_list\u001b[1;34m(vect, data, count)\u001b[0m\n\u001b[0;32m      3\u001b[0m \u001b[38;5;28;01mdef\u001b[39;00m \u001b[38;5;21mtop_list\u001b[39m(vect, data, count):\n\u001b[1;32m----> 4\u001b[0m     x \u001b[38;5;241m=\u001b[39m \u001b[38;5;28mlist\u001b[39m(\u001b[38;5;28mzip\u001b[39m(\u001b[43mvect\u001b[49m\u001b[38;5;241;43m.\u001b[39;49m\u001b[43mget_feature_names\u001b[49m(),np\u001b[38;5;241m.\u001b[39mravel(data\u001b[38;5;241m.\u001b[39msum(axis\u001b[38;5;241m=\u001b[39m\u001b[38;5;241m0\u001b[39m))))\n\u001b[0;32m      5\u001b[0m     x\u001b[38;5;241m.\u001b[39msort(key\u001b[38;5;241m=\u001b[39mSortbyTF, reverse \u001b[38;5;241m=\u001b[39m \u001b[38;5;28;01mTrue\u001b[39;00m)\n\u001b[0;32m      6\u001b[0m     \u001b[38;5;28;01mreturn\u001b[39;00m x[:count]\n",
      "\u001b[1;31mAttributeError\u001b[0m: 'CountVectorizer' object has no attribute 'get_feature_names'"
     ]
    }
   ],
   "source": [
    "def process(train, categories):\n",
    "    cats = categories[:]\n",
    "    cats.append('full')\n",
    "    mux = pd.MultiIndex.from_product([['Count','TF','TF-IDF'], ['Без стоп-слов','С стоп-cловами']])\n",
    "    summary = dict()\n",
    "    for category in cats:\n",
    "        summary[category] = pd.DataFrame(columns=mux)\n",
    "    \n",
    "    stop_words = [None, 'english']\n",
    "    idf = [False, True]\n",
    "    \n",
    "    indx_stop = {\n",
    "        'english': 'Без стоп-слов',\n",
    "        None: 'С стоп-cловами'\n",
    "    }\n",
    "    \n",
    "    indx_tf = {\n",
    "        False: 'TF',\n",
    "        True: 'TF-IDF'\n",
    "    }\n",
    "    for category in cats:\n",
    "        for stop in stop_words:  \n",
    "            vect = CountVectorizer(max_features=10000, stop_words=stop)\n",
    "            vect.fit(train[category])\n",
    "            train_data = vect.transform(train[category])\n",
    "            summary[category]['Count', indx_stop[stop]] = top_list(vect, train_data, 20)\n",
    "            \n",
    "            for tf in idf:\n",
    "                tfidf = TfidfTransformer(use_idf = tf).fit(train_data)\n",
    "                train_fidf = tfidf.transform(train_data)\n",
    "                summary[category][indx_tf[tf], indx_stop[stop]] = top_list(vect, train_fidf, 20)\n",
    "    \n",
    "    return summary\n",
    "\n",
    "summ_without_stem = process(twenty_train, categories)\n",
    "summ_with_stem = process(stem_train, categories)"
   ]
  },
  {
   "cell_type": "code",
   "execution_count": null,
   "id": "49b344dd",
   "metadata": {},
   "outputs": [],
   "source": [
    "for cat in ['full'] + categories:\n",
    "    summ_without_stem[cat].to_excel('without_stem_' + cat + '.xlsx')\n",
    "    summ_with_stem[cat].to_excel('with_stem_' + cat + '.xlsx')"
   ]
  },
  {
   "cell_type": "markdown",
   "id": "a19320de",
   "metadata": {},
   "source": [
    "## Pipelines"
   ]
  },
  {
   "cell_type": "code",
   "execution_count": null,
   "id": "1a583522",
   "metadata": {},
   "outputs": [],
   "source": [
    "import os"
   ]
  },
  {
   "cell_type": "code",
   "execution_count": null,
   "id": "8587f23e",
   "metadata": {},
   "outputs": [],
   "source": [
    "def print_classification_score(clf, data):\n",
    "    print(classification_report(gs_clf.predict(data.data), data.target))"
   ]
  },
  {
   "cell_type": "code",
   "execution_count": null,
   "id": "01d8abdf",
   "metadata": {},
   "outputs": [],
   "source": [
    "categories = ['alt.atheism', 'rec.motorcycles', 'talk.politics.guns']\n",
    "remove = ['headers', 'footers', 'quotes']\n",
    "twenty_train_full = fetch_20newsgroups(subset='train', shuffle=True, random_state=42, categories=categories, remove=remove)\n",
    "twenty_test_full = fetch_20newsgroups(subset='test', shuffle=True, random_state=42, categories=categories, remove=remove)"
   ]
  },
  {
   "cell_type": "code",
   "execution_count": null,
   "id": "cd1e0275",
   "metadata": {},
   "outputs": [],
   "source": [
    "def prespocess(data, max_features, stop_words, use_tf, use_idf):\n",
    "    tf = None\n",
    "    cv = CountVectorizer(max_features=max_features, stop_words=stop_words).fit(data)\n",
    "    if use_tf:\n",
    "        tf = TfidfTransformer(use_idf=use_idf).fit(cv.transform(data))\n",
    "    return cv, tf\n",
    "\n",
    "def models_grid_search(data_train, data_test):\n",
    "    max_features = [100,500,1000,5000,10000]\n",
    "    stop_words = ['english', None]\n",
    "    use_tf = [True, False]\n",
    "    use_idf = [True, False]\n",
    "    \n",
    "    res = dict()\n",
    "    for param in itertools.product(max_features, stop_words, use_tf, use_idf):\n",
    "        cv, tf = prespocess(data_train.data, param[0], param[1], param[2], param[3])\n",
    "        if tf:\n",
    "            clf = MultinomialNB().fit(tf.transform(cv.transform(data_train.data)), data_train.target)\n",
    "            prep_test = tf.transform(cv.transform(data_test.data))\n",
    "        else:\n",
    "            clf = MultinomialNB().fit(cv.transform(data_train.data), data_train.target)\n",
    "            prep_test = cv.transform(data_test.data)\n",
    "        \n",
    "        name = f'max_features={param[0]}_stop_words={param[1]}_use_tf={param[2]}_use_idf={param[3]}'\n",
    "        res[name] = pd.DataFrame(classification_report(clf.predict(prep_test), data_test.target, output_dict=True))  \n",
    "    return res"
   ]
  },
  {
   "cell_type": "code",
   "execution_count": null,
   "id": "50e81301",
   "metadata": {},
   "outputs": [],
   "source": [
    "scores = models_grid_search(twenty_train_full, twenty_test_full)"
   ]
  },
  {
   "cell_type": "code",
   "execution_count": null,
   "id": "137e7651",
   "metadata": {},
   "outputs": [],
   "source": [
    "if not os.path.exists('scores'):\n",
    "    os.makedirs('scores')\n",
    "    \n",
    "for name, score in scores.items():\n",
    "    score.to_excel('scores/' + name + '.xlsx')"
   ]
  },
  {
   "cell_type": "code",
   "execution_count": null,
   "id": "0e0cc4e8",
   "metadata": {},
   "outputs": [],
   "source": [
    "from sklearn.model_selection import GridSearchCV\n",
    "parameters = {\n",
    "    'vect__max_features': (100,500,1000,5000,10000),\n",
    "    'vect__stop_words': ('english', None),\n",
    "    'tfidf__use_idf': (True, False),\n",
    "}\n",
    "\n",
    "text_clf = Pipeline([\n",
    "    ('vect', CountVectorizer()),\n",
    "    ('tfidf', TfidfTransformer()),\n",
    "    ('clf', MultinomialNB())\n",
    "])\n",
    "\n",
    "gs_clf = GridSearchCV(text_clf, parameters, n_jobs=-1, cv=3)\n",
    "gs_clf.fit(X = twenty_train_full.data, y = twenty_train_full.target)\n",
    "print_classification_score(gs_clf, twenty_test_full)"
   ]
  },
  {
   "cell_type": "code",
   "execution_count": null,
   "id": "9cb798a1",
   "metadata": {},
   "outputs": [],
   "source": []
  },
  {
   "cell_type": "code",
   "execution_count": null,
   "id": "c04535f4",
   "metadata": {},
   "outputs": [],
   "source": []
  }
 ],
 "metadata": {
  "kernelspec": {
   "display_name": "Python 3 (ipykernel)",
   "language": "python",
   "name": "python3"
  },
  "language_info": {
   "codemirror_mode": {
    "name": "ipython",
    "version": 3
   },
   "file_extension": ".py",
   "mimetype": "text/x-python",
   "name": "python",
   "nbconvert_exporter": "python",
   "pygments_lexer": "ipython3",
   "version": "3.11.1"
  }
 },
 "nbformat": 4,
 "nbformat_minor": 5
}
