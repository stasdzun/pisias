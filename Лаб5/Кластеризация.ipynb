{
 "cells": [
  {
   "cell_type": "code",
   "execution_count": 1,
   "id": "2add48d7",
   "metadata": {},
   "outputs": [],
   "source": [
    "import numpy as np\n",
    "import pandas as pd\n",
    "import matplotlib.pyplot as plt\n",
    "from sklearn.datasets import make_blobs\n",
    "from sklearn.metrics import classification_report\n",
    "from scipy.cluster.hierarchy import linkage, dendrogram, fcluster\n",
    "from sklearn.cluster import KMeans"
   ]
  },
  {
   "cell_type": "markdown",
   "id": "37a63323",
   "metadata": {},
   "source": [
    "## Генерация выборки\n",
    "| Вид класса | random_state | cluster_std | noise | centers |\n",
    "|:----------:|:------------:|:-----------:|:-----:|:-------:|\n",
    "|    blobs   |      23      |      2      |   -   |    6    |"
   ]
  },
  {
   "cell_type": "code",
   "execution_count": 2,
   "id": "59e6cfe9",
   "metadata": {},
   "outputs": [],
   "source": [
    "centers_count = 6\n",
    "X, y = make_blobs(centers=6, random_state=23, cluster_std=2)"
   ]
  },
  {
   "cell_type": "markdown",
   "id": "21a4fa04",
   "metadata": {},
   "source": [
    "## Сгенерированная выборка"
   ]
  },
  {
   "cell_type": "code",
   "execution_count": 3,
   "id": "a4ff5b61",
   "metadata": {},
   "outputs": [
    {
     "data": {
      "text/plain": [
       "<matplotlib.collections.PathCollection at 0x153671135d0>"
      ]
     },
     "execution_count": 3,
     "metadata": {},
     "output_type": "execute_result"
    },
    {
     "data": {
      "image/png": "[encoded data removed]",
      "text/plain": [
       "<Figure size 640x480 with 1 Axes>"
      ]
     },
     "metadata": {},
     "output_type": "display_data"
    }
   ],
   "source": [
    "plt.scatter(X[:,0], X[:,1])"
   ]
  },
  {
   "cell_type": "markdown",
   "id": "05d83c8a",
   "metadata": {},
   "source": [
    "## Иерархическая класстеризация"
   ]
  },
  {
   "cell_type": "code",
   "execution_count": 4,
   "id": "2fe51fea",
   "metadata": {},
   "outputs": [],
   "source": [
    "def cluster_center(X, c):\n",
    "    centers = np.zeros((centers_count,2))\n",
    "    for i in range(1,8):\n",
    "        ix = np.where(c == i)\n",
    "        centers[i-1,:] = np.mean(X[ix,:], axis=1)\n",
    "        \n",
    "    return centers"
   ]
  },
  {
   "cell_type": "code",
   "execution_count": 5,
   "id": "fe684b95",
   "metadata": {},
   "outputs": [
    {
     "name": "stderr",
     "output_type": "stream",
     "text": [
      "C:\\Users\\nuvik\\AppData\\Local\\Programs\\Python\\Python311\\Lib\\site-packages\\numpy\\core\\fromnumeric.py:3464: RuntimeWarning: Mean of empty slice.\n",
      "  return _methods._mean(a, axis=axis, dtype=dtype,\n",
      "C:\\Users\\nuvik\\AppData\\Local\\Programs\\Python\\Python311\\Lib\\site-packages\\numpy\\core\\_methods.py:184: RuntimeWarning: invalid value encountered in divide\n",
      "  ret = um.true_divide(\n"
     ]
    },
    {
     "ename": "IndexError",
     "evalue": "index 6 is out of bounds for axis 0 with size 6",
     "output_type": "error",
     "traceback": [
      "\u001b[1;31m---------------------------------------------------------------------------\u001b[0m",
      "\u001b[1;31mIndexError\u001b[0m                                Traceback (most recent call last)",
      "Cell \u001b[1;32mIn[5], line 3\u001b[0m\n\u001b[0;32m      1\u001b[0m mergings \u001b[38;5;241m=\u001b[39m linkage(X, method\u001b[38;5;241m=\u001b[39m\u001b[38;5;124m'\u001b[39m\u001b[38;5;124msingle\u001b[39m\u001b[38;5;124m'\u001b[39m)\n\u001b[0;32m      2\u001b[0m T \u001b[38;5;241m=\u001b[39m fcluster(mergings, centers_count, criterion\u001b[38;5;241m=\u001b[39m\u001b[38;5;124m'\u001b[39m\u001b[38;5;124mmaxclust\u001b[39m\u001b[38;5;124m'\u001b[39m)\n\u001b[1;32m----> 3\u001b[0m c \u001b[38;5;241m=\u001b[39m \u001b[43mcluster_center\u001b[49m\u001b[43m(\u001b[49m\u001b[43mX\u001b[49m\u001b[43m,\u001b[49m\u001b[43m \u001b[49m\u001b[43mT\u001b[49m\u001b[43m)\u001b[49m\n",
      "Cell \u001b[1;32mIn[4], line 5\u001b[0m, in \u001b[0;36mcluster_center\u001b[1;34m(X, c)\u001b[0m\n\u001b[0;32m      3\u001b[0m \u001b[38;5;28;01mfor\u001b[39;00m i \u001b[38;5;129;01min\u001b[39;00m \u001b[38;5;28mrange\u001b[39m(\u001b[38;5;241m1\u001b[39m,\u001b[38;5;241m8\u001b[39m):\n\u001b[0;32m      4\u001b[0m     ix \u001b[38;5;241m=\u001b[39m np\u001b[38;5;241m.\u001b[39mwhere(c \u001b[38;5;241m==\u001b[39m i)\n\u001b[1;32m----> 5\u001b[0m     \u001b[43mcenters\u001b[49m\u001b[43m[\u001b[49m\u001b[43mi\u001b[49m\u001b[38;5;241;43m-\u001b[39;49m\u001b[38;5;241;43m1\u001b[39;49m\u001b[43m,\u001b[49m\u001b[43m:\u001b[49m\u001b[43m]\u001b[49m \u001b[38;5;241m=\u001b[39m np\u001b[38;5;241m.\u001b[39mmean(X[ix,:], axis\u001b[38;5;241m=\u001b[39m\u001b[38;5;241m1\u001b[39m)\n\u001b[0;32m      7\u001b[0m \u001b[38;5;28;01mreturn\u001b[39;00m centers\n",
      "\u001b[1;31mIndexError\u001b[0m: index 6 is out of bounds for axis 0 with size 6"
     ]
    }
   ],
   "source": [
    "mergings = linkage(X, method='single')\n",
    "T = fcluster(mergings, centers_count, criterion='maxclust')\n",
    "c = cluster_center(X, T)"
   ]
  },
  {
   "cell_type": "code",
   "execution_count": null,
   "id": "60cb2801",
   "metadata": {},
   "outputs": [],
   "source": [
    "dendrogram(mergings)\n",
    "plt.show()"
   ]
  },
  {
   "cell_type": "code",
   "execution_count": null,
   "id": "4a1b62bb",
   "metadata": {},
   "outputs": [],
   "source": []
  },
  {
   "cell_type": "code",
   "execution_count": null,
   "id": "6f6db281",
   "metadata": {},
   "outputs": [],
   "source": [
    "mergings = linkage(X, method='complete')\n",
    "dendrogram(mergings)\n",
    "plt.show()"
   ]
  },
  {
   "cell_type": "code",
   "execution_count": null,
   "id": "793ff557",
   "metadata": {},
   "outputs": [],
   "source": []
  },
  {
   "cell_type": "code",
   "execution_count": null,
   "id": "accba948",
   "metadata": {},
   "outputs": [],
   "source": [
    "mergings = linkage(X, method='ward')\n",
    "dendrogram(mergings)\n",
    "plt.show()"
   ]
  },
  {
   "cell_type": "markdown",
   "id": "1ca6831b",
   "metadata": {},
   "source": [
    "## Лучшее разбиение"
   ]
  },
  {
   "cell_type": "code",
   "execution_count": null,
   "id": "2b448528",
   "metadata": {},
   "outputs": [],
   "source": [
    "mergings = linkage(X, method='complete')\n",
    "dendrogram(mergings)\n",
    "plt.show()"
   ]
  },
  {
   "cell_type": "code",
   "execution_count": null,
   "id": "65e0ac70",
   "metadata": {},
   "outputs": [],
   "source": [
    "T = fcluster(mergings, centers_count, criterion='maxclust')\n",
    "c = cluster_center(X, T)\n",
    "plt.scatter(X[:,0], X[:,1], c=T)\n",
    "plt.scatter(c[:,0], c[:,1], c='black')"
   ]
  },
  {
   "cell_type": "code",
   "execution_count": null,
   "id": "7e2a8a4e",
   "metadata": {},
   "outputs": [],
   "source": [
    "from sklearn.metrics.pairwise import euclidean_distances"
   ]
  },
  {
   "cell_type": "code",
   "execution_count": null,
   "id": "cc983544",
   "metadata": {},
   "outputs": [],
   "source": [
    "def sum_sq_dist(X, clust, cent):\n",
    "    sums = np.zeros(centers_count)\n",
    "    for i in range(1,centers_count+1):\n",
    "        ix = np.where(clust == i)\n",
    "        sums[i-1] = np.sum(euclidean_distances(*X[ix,:], [cent[i-1]])**2)\n",
    "    return np.sum(sums) / centers_count\n",
    "\n",
    "def sum_av_sq_dist(X, clust, cent):\n",
    "    sums = np.zeros(centers_count)\n",
    "    for i in range(1,centers_count+1):\n",
    "        ix = np.where(clust == i)\n",
    "        sums[i-1] = np.sum(euclidean_distances(*X[ix,:], [cent[i-1]])**2)/len(*X[ix,:])\n",
    "    return np.sum(sums) / centers_count\n",
    "\n",
    "def sum_cl_dist(cent):\n",
    "    sums = np.sum(euclidean_distances(cent, cent))\n",
    "    return sums / centers_count"
   ]
  },
  {
   "cell_type": "code",
   "execution_count": null,
   "id": "bd4c1a42",
   "metadata": {},
   "outputs": [],
   "source": [
    "sum_sq_dist(X, T, c)"
   ]
  },
  {
   "cell_type": "code",
   "execution_count": null,
   "id": "a22f6fcf",
   "metadata": {},
   "outputs": [],
   "source": [
    "sum_av_sq_dist(X, T, c)"
   ]
  },
  {
   "cell_type": "code",
   "execution_count": null,
   "id": "b0cea4b8",
   "metadata": {},
   "outputs": [],
   "source": [
    "sum_cl_dist(c)"
   ]
  },
  {
   "cell_type": "markdown",
   "id": "40471cc6",
   "metadata": {},
   "source": [
    "## Метод k-средних"
   ]
  },
  {
   "cell_type": "code",
   "execution_count": null,
   "id": "ab251aa9",
   "metadata": {},
   "outputs": [],
   "source": [
    "from sklearn.cluster import KMeans\n",
    "from matplotlib.pyplot import xticks"
   ]
  },
  {
   "cell_type": "code",
   "execution_count": null,
   "id": "f046ae4c",
   "metadata": {},
   "outputs": [],
   "source": [
    "clussters = []\n",
    "dist = []\n",
    "cent = []\n",
    "for k in range(1,11):\n",
    "    kmeans = KMeans(n_clusters=k)\n",
    "    kmeans.fit(X)\n",
    "    clussters.append(kmeans.predict(X))\n",
    "    cent.append(kmeans.cluster_centers_)\n",
    "    dist.append(kmeans.inertia_ / k)"
   ]
  },
  {
   "cell_type": "code",
   "execution_count": null,
   "id": "a883148b",
   "metadata": {},
   "outputs": [],
   "source": [
    "xticks(np.arange(1, 11, step=1)) \n",
    "plt.plot(range(1, 11), dist, '-bo')"
   ]
  },
  {
   "cell_type": "code",
   "execution_count": null,
   "id": "baf29235",
   "metadata": {},
   "outputs": [],
   "source": [
    "metric = []\n",
    "for k in range(10):\n",
    "    sums = np.zeros(k)\n",
    "    for i in range(k):\n",
    "        ix = np.where(clussters[k] == i)\n",
    "        sums[i-1] = np.sum(euclidean_distances(*X[ix,:], [cent[k][i-1]])**2)/len(*X[ix,:])\n",
    "    metric.append(np.sum(sums) / (k+1))"
   ]
  },
  {
   "cell_type": "code",
   "execution_count": null,
   "id": "c2ad7016",
   "metadata": {},
   "outputs": [],
   "source": [
    "xticks(np.arange(1, 11, step=1)) \n",
    "plt.plot(range(1, 11), metric, '-bo')"
   ]
  },
  {
   "cell_type": "code",
   "execution_count": null,
   "id": "6dfe0ee7",
   "metadata": {},
   "outputs": [],
   "source": [
    "metric = []\n",
    "for k in range(10):\n",
    "    sums = np.sum(euclidean_distances(cent[k], cent[k]))\n",
    "    metric.append(sums / (k+1))"
   ]
  },
  {
   "cell_type": "code",
   "execution_count": null,
   "id": "8e60e5a8",
   "metadata": {},
   "outputs": [],
   "source": [
    "xticks(np.arange(1, 11, step=1)) \n",
    "plt.plot(range(1, 11), metric, '-bo')"
   ]
  },
  {
   "cell_type": "code",
   "execution_count": null,
   "id": "ab4447e1",
   "metadata": {},
   "outputs": [],
   "source": []
  }
 ],
 "metadata": {
  "kernelspec": {
   "display_name": "Python 3 (ipykernel)",
   "language": "python",
   "name": "python3"
  },
  "language_info": {
   "codemirror_mode": {
    "name": "ipython",
    "version": 3
   },
   "file_extension": ".py",
   "mimetype": "text/x-python",
   "name": "python",
   "nbconvert_exporter": "python",
   "pygments_lexer": "ipython3",
   "version": "3.11.1"
  }
 },
 "nbformat": 4,
 "nbformat_minor": 5
}
